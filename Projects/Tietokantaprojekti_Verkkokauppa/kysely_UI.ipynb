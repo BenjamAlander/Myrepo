{
 "cells": [
  {
   "cell_type": "markdown",
   "id": "f15739e7-e63c-4e02-afb2-cb3a7f866e0d",
   "metadata": {},
   "source": [
    "## Asiakastaulun lukeminen"
   ]
  },
  {
   "cell_type": "code",
   "execution_count": 1,
   "id": "1a598327-843e-49b6-96bf-9e0c020625fe",
   "metadata": {},
   "outputs": [
    {
     "ename": "OperationalError",
     "evalue": "(2003, \"Can't connect to MySQL server on 'localhost' ([WinError 10061] No connection could be made because the target machine actively refused it)\")",
     "output_type": "error",
     "traceback": [
      "\u001b[1;31m---------------------------------------------------------------------------\u001b[0m",
      "\u001b[1;31mConnectionRefusedError\u001b[0m                    Traceback (most recent call last)",
      "File \u001b[1;32mc:\\Users\\Aland\\anaconda3\\lib\\site-packages\\pymysql\\connections.py:616\u001b[0m, in \u001b[0;36mConnection.connect\u001b[1;34m(self, sock)\u001b[0m\n\u001b[0;32m    615\u001b[0m \u001b[39mtry\u001b[39;00m:\n\u001b[1;32m--> 616\u001b[0m     sock \u001b[39m=\u001b[39m socket\u001b[39m.\u001b[39mcreate_connection(\n\u001b[0;32m    617\u001b[0m         (\u001b[39mself\u001b[39m\u001b[39m.\u001b[39mhost, \u001b[39mself\u001b[39m\u001b[39m.\u001b[39mport), \u001b[39mself\u001b[39m\u001b[39m.\u001b[39mconnect_timeout, \u001b[39m*\u001b[39m\u001b[39m*\u001b[39mkwargs\n\u001b[0;32m    618\u001b[0m     )\n\u001b[0;32m    619\u001b[0m     \u001b[39mbreak\u001b[39;00m\n",
      "File \u001b[1;32mc:\\Users\\Aland\\anaconda3\\lib\\socket.py:845\u001b[0m, in \u001b[0;36mcreate_connection\u001b[1;34m(address, timeout, source_address)\u001b[0m\n\u001b[0;32m    844\u001b[0m \u001b[39mtry\u001b[39;00m:\n\u001b[1;32m--> 845\u001b[0m     \u001b[39mraise\u001b[39;00m err\n\u001b[0;32m    846\u001b[0m \u001b[39mfinally\u001b[39;00m:\n\u001b[0;32m    847\u001b[0m     \u001b[39m# Break explicitly a reference cycle\u001b[39;00m\n",
      "File \u001b[1;32mc:\\Users\\Aland\\anaconda3\\lib\\socket.py:833\u001b[0m, in \u001b[0;36mcreate_connection\u001b[1;34m(address, timeout, source_address)\u001b[0m\n\u001b[0;32m    832\u001b[0m     sock\u001b[39m.\u001b[39mbind(source_address)\n\u001b[1;32m--> 833\u001b[0m sock\u001b[39m.\u001b[39;49mconnect(sa)\n\u001b[0;32m    834\u001b[0m \u001b[39m# Break explicitly a reference cycle\u001b[39;00m\n",
      "\u001b[1;31mConnectionRefusedError\u001b[0m: [WinError 10061] No connection could be made because the target machine actively refused it",
      "\nDuring handling of the above exception, another exception occurred:\n",
      "\u001b[1;31mOperationalError\u001b[0m                          Traceback (most recent call last)",
      "Cell \u001b[1;32mIn[1], line 2\u001b[0m\n\u001b[0;32m      1\u001b[0m \u001b[39mfrom\u001b[39;00m \u001b[39masiakas\u001b[39;00m \u001b[39mimport\u001b[39;00m asiakas\n\u001b[1;32m----> 2\u001b[0m asiakas\u001b[39m.\u001b[39;49mreadAsiakas()\n",
      "File \u001b[1;32mc:\\Archived_Projects\\Verkkokauppa_Tietokantaprojekti\\asiakas.py:45\u001b[0m, in \u001b[0;36masiakas.readAsiakas\u001b[1;34m()\u001b[0m\n\u001b[0;32m     44\u001b[0m \u001b[39mdef\u001b[39;00m \u001b[39mreadAsiakas\u001b[39m():\n\u001b[1;32m---> 45\u001b[0m     conn \u001b[39m=\u001b[39m connect\u001b[39m.\u001b[39;49mconnectDB(\u001b[39m\"\u001b[39;49m\u001b[39mtietokantaprojekti\u001b[39;49m\u001b[39m\"\u001b[39;49m,\u001b[39m\"\u001b[39;49m\u001b[39mlocalhost\u001b[39;49m\u001b[39m\"\u001b[39;49m,\u001b[39m\"\u001b[39;49m\u001b[39mroot\u001b[39;49m\u001b[39m\"\u001b[39;49m,\u001b[39m\"\u001b[39;49m\u001b[39m\"\u001b[39;49m)\n\u001b[0;32m     46\u001b[0m     \u001b[39mtry\u001b[39;00m:\n\u001b[0;32m     47\u001b[0m         cursor \u001b[39m=\u001b[39m conn\u001b[39m.\u001b[39mcursor()\n",
      "File \u001b[1;32mc:\\Archived_Projects\\Verkkokauppa_Tietokantaprojekti\\SQLPYconnector.py:12\u001b[0m, in \u001b[0;36mdatabaseConnector.connectDB\u001b[1;34m(db_name, db_host, db_username, db_passwd)\u001b[0m\n\u001b[0;32m     11\u001b[0m \u001b[39mdef\u001b[39;00m \u001b[39mconnectDB\u001b[39m(db_name, db_host, db_username, db_passwd):\n\u001b[1;32m---> 12\u001b[0m     conn\u001b[39m=\u001b[39mpymysql\u001b[39m.\u001b[39;49mconnect(host\u001b[39m=\u001b[39;49mdb_host,\n\u001b[0;32m     13\u001b[0m     port\u001b[39m=\u001b[39;49m\u001b[39mint\u001b[39;49m(\u001b[39m3306\u001b[39;49m),\n\u001b[0;32m     14\u001b[0m     user\u001b[39m=\u001b[39;49m\u001b[39m\"\u001b[39;49m\u001b[39mroot\u001b[39;49m\u001b[39m\"\u001b[39;49m,\n\u001b[0;32m     15\u001b[0m     passwd\u001b[39m=\u001b[39;49mdb_passwd,\n\u001b[0;32m     16\u001b[0m     db\u001b[39m=\u001b[39;49mdb_name)\n\u001b[0;32m     17\u001b[0m     \u001b[39mreturn\u001b[39;00m conn\n",
      "File \u001b[1;32mc:\\Users\\Aland\\anaconda3\\lib\\site-packages\\pymysql\\connections.py:352\u001b[0m, in \u001b[0;36mConnection.__init__\u001b[1;34m(self, user, password, host, database, unix_socket, port, charset, sql_mode, read_default_file, conv, use_unicode, client_flag, cursorclass, init_command, connect_timeout, read_default_group, autocommit, local_infile, max_allowed_packet, defer_connect, auth_plugin_map, read_timeout, write_timeout, bind_address, binary_prefix, program_name, server_public_key, ssl, ssl_ca, ssl_cert, ssl_disabled, ssl_key, ssl_verify_cert, ssl_verify_identity, compress, named_pipe, passwd, db)\u001b[0m\n\u001b[0;32m    350\u001b[0m     \u001b[39mself\u001b[39m\u001b[39m.\u001b[39m_sock \u001b[39m=\u001b[39m \u001b[39mNone\u001b[39;00m\n\u001b[0;32m    351\u001b[0m \u001b[39melse\u001b[39;00m:\n\u001b[1;32m--> 352\u001b[0m     \u001b[39mself\u001b[39;49m\u001b[39m.\u001b[39;49mconnect()\n",
      "File \u001b[1;32mc:\\Users\\Aland\\anaconda3\\lib\\site-packages\\pymysql\\connections.py:668\u001b[0m, in \u001b[0;36mConnection.connect\u001b[1;34m(self, sock)\u001b[0m\n\u001b[0;32m    666\u001b[0m     \u001b[39mif\u001b[39;00m DEBUG:\n\u001b[0;32m    667\u001b[0m         \u001b[39mprint\u001b[39m(exc\u001b[39m.\u001b[39mtraceback)\n\u001b[1;32m--> 668\u001b[0m     \u001b[39mraise\u001b[39;00m exc\n\u001b[0;32m    670\u001b[0m \u001b[39m# If e is neither DatabaseError or IOError, It's a bug.\u001b[39;00m\n\u001b[0;32m    671\u001b[0m \u001b[39m# But raising AssertionError hides original error.\u001b[39;00m\n\u001b[0;32m    672\u001b[0m \u001b[39m# So just reraise it.\u001b[39;00m\n\u001b[0;32m    673\u001b[0m \u001b[39mraise\u001b[39;00m\n",
      "\u001b[1;31mOperationalError\u001b[0m: (2003, \"Can't connect to MySQL server on 'localhost' ([WinError 10061] No connection could be made because the target machine actively refused it)\")"
     ]
    }
   ],
   "source": [
    "from asiakas import asiakas\n",
    "asiakas.readAsiakas()"
   ]
  },
  {
   "cell_type": "markdown",
   "id": "99e4df01-d23d-4469-aaad-7b0efcbfa767",
   "metadata": {},
   "source": [
    "## Tuotetaulun lukeminen"
   ]
  },
  {
   "cell_type": "code",
   "execution_count": 2,
   "id": "df402b86-1df1-4933-b433-f0fb78c95987",
   "metadata": {},
   "outputs": [
    {
     "data": {
      "text/html": [
       "<div>\n",
       "<style scoped>\n",
       "    .dataframe tbody tr th:only-of-type {\n",
       "        vertical-align: middle;\n",
       "    }\n",
       "\n",
       "    .dataframe tbody tr th {\n",
       "        vertical-align: top;\n",
       "    }\n",
       "\n",
       "    .dataframe thead th {\n",
       "        text-align: right;\n",
       "    }\n",
       "</style>\n",
       "<table border=\"1\" class=\"dataframe\">\n",
       "  <thead>\n",
       "    <tr style=\"text-align: right;\">\n",
       "      <th></th>\n",
       "      <th>tuoteID</th>\n",
       "      <th>tuotenimi</th>\n",
       "      <th>tuotehinta</th>\n",
       "    </tr>\n",
       "  </thead>\n",
       "  <tbody>\n",
       "    <tr>\n",
       "      <th>0</th>\n",
       "      <td>1</td>\n",
       "      <td>Deusenberg DM2-CR-S Gran Majesto 2C, Cherry Rd</td>\n",
       "      <td>2550.0</td>\n",
       "    </tr>\n",
       "    <tr>\n",
       "      <th>1</th>\n",
       "      <td>2</td>\n",
       "      <td>Yamaha STORIAII2 Natural folk-kitara</td>\n",
       "      <td>345.0</td>\n",
       "    </tr>\n",
       "    <tr>\n",
       "      <th>2</th>\n",
       "      <td>3</td>\n",
       "      <td>Gibson Les Paul Tribute Satin Cherry Sunb</td>\n",
       "      <td>1399.0</td>\n",
       "    </tr>\n",
       "  </tbody>\n",
       "</table>\n",
       "</div>"
      ],
      "text/plain": [
       "   tuoteID                                       tuotenimi  tuotehinta\n",
       "0        1  Deusenberg DM2-CR-S Gran Majesto 2C, Cherry Rd      2550.0\n",
       "1        2            Yamaha STORIAII2 Natural folk-kitara       345.0\n",
       "2        3       Gibson Les Paul Tribute Satin Cherry Sunb      1399.0"
      ]
     },
     "execution_count": 2,
     "metadata": {},
     "output_type": "execute_result"
    }
   ],
   "source": [
    "from tuote import tuote\n",
    "tuote.readTuote()"
   ]
  },
  {
   "cell_type": "markdown",
   "id": "50e317e6-e42e-403a-839c-8f88b4b68e83",
   "metadata": {},
   "source": [
    "## Tilaustaulun lukeminen"
   ]
  },
  {
   "cell_type": "code",
   "execution_count": 3,
   "id": "b3f48ed1-5415-4a83-bcd5-8058680cf085",
   "metadata": {},
   "outputs": [
    {
     "data": {
      "text/html": [
       "<div>\n",
       "<style scoped>\n",
       "    .dataframe tbody tr th:only-of-type {\n",
       "        vertical-align: middle;\n",
       "    }\n",
       "\n",
       "    .dataframe tbody tr th {\n",
       "        vertical-align: top;\n",
       "    }\n",
       "\n",
       "    .dataframe thead th {\n",
       "        text-align: right;\n",
       "    }\n",
       "</style>\n",
       "<table border=\"1\" class=\"dataframe\">\n",
       "  <thead>\n",
       "    <tr style=\"text-align: right;\">\n",
       "      <th></th>\n",
       "      <th>tilausID</th>\n",
       "      <th>tuotteet</th>\n",
       "      <th>tilausPVM</th>\n",
       "      <th>asiakasID</th>\n",
       "    </tr>\n",
       "  </thead>\n",
       "  <tbody>\n",
       "    <tr>\n",
       "      <th>0</th>\n",
       "      <td>5</td>\n",
       "      <td>2</td>\n",
       "      <td>2023-04-21</td>\n",
       "      <td>5</td>\n",
       "    </tr>\n",
       "  </tbody>\n",
       "</table>\n",
       "</div>"
      ],
      "text/plain": [
       "   tilausID tuotteet   tilausPVM  asiakasID\n",
       "0         5        2  2023-04-21          5"
      ]
     },
     "execution_count": 3,
     "metadata": {},
     "output_type": "execute_result"
    }
   ],
   "source": [
    "from tilaus import tilaus\n",
    "tilaus.readTilaus()"
   ]
  },
  {
   "cell_type": "markdown",
   "id": "00fee67b-0407-408d-bb35-50fbe7854379",
   "metadata": {},
   "source": [
    "## Tilauksen sisällön tarkistelu (tilausID:n perusteella)"
   ]
  },
  {
   "cell_type": "code",
   "execution_count": 4,
   "id": "d3b9ff37-fe2c-4d9b-b73c-095a3131531f",
   "metadata": {},
   "outputs": [
    {
     "name": "stdout",
     "output_type": "stream",
     "text": [
      "   tilausID tuotteet   tilausPVM  asiakasID\n",
      "0         5        2  2023-04-21          5\n"
     ]
    },
    {
     "name": "stdout",
     "output_type": "stream",
     "text": [
      "Anna tilauksen tilausID:  5\n"
     ]
    },
    {
     "name": "stdout",
     "output_type": "stream",
     "text": [
      "\n",
      "Asiakas\n",
      "Anssi\n",
      "02945\n",
      "Kuvitelmakaari 23\n",
      "\n",
      "--------------------------------------------------\n",
      "                              tuotenimi  tuotehinta\n",
      "0  Yamaha STORIAII2 Natural folk-kitara       345.0\n",
      "Tilauksen kokonaissumma: 345.0\n",
      "--------------------------------------------------\n"
     ]
    }
   ],
   "source": [
    "from tilaus import tilaus\n",
    "tilaus.tilauksenSisalto()"
   ]
  },
  {
   "cell_type": "markdown",
   "id": "2964b35e-ba15-4180-b4d4-a232c51736f8",
   "metadata": {},
   "source": [
    "## Kokonaismyynnin laskeminen tilausten perusteella"
   ]
  },
  {
   "cell_type": "code",
   "execution_count": 5,
   "id": "10e1e37f-cd42-4a8c-bf8a-bd8520b4ebdb",
   "metadata": {},
   "outputs": [
    {
     "name": "stdout",
     "output_type": "stream",
     "text": [
      "   total_sales\n",
      "0        345.0\n"
     ]
    }
   ],
   "source": [
    "from tilaus import tilaus\n",
    "tilaus.tilaustenTuotto()"
   ]
  },
  {
   "cell_type": "code",
   "execution_count": null,
   "id": "c04e8cda-0653-4bf8-8f53-1277354fc560",
   "metadata": {},
   "outputs": [],
   "source": []
  }
 ],
 "metadata": {
  "kernelspec": {
   "display_name": "Python 3 (ipykernel)",
   "language": "python",
   "name": "python3"
  },
  "language_info": {
   "codemirror_mode": {
    "name": "ipython",
    "version": 3
   },
   "file_extension": ".py",
   "mimetype": "text/x-python",
   "name": "python",
   "nbconvert_exporter": "python",
   "pygments_lexer": "ipython3",
   "version": "3.10.9"
  }
 },
 "nbformat": 4,
 "nbformat_minor": 5
}
