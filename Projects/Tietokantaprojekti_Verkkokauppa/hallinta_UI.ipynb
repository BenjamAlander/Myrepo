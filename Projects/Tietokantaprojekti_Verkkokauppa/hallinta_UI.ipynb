{
 "cells": [
  {
   "cell_type": "markdown",
   "id": "ba15dc8d-e7d5-4e72-bfa1-f14282608874",
   "metadata": {},
   "source": [
    "# Asiakastietojen lisäys\n"
   ]
  },
  {
   "cell_type": "code",
   "execution_count": 1,
   "id": "aa3b31f9-b92f-44ff-8208-21ca9029376e",
   "metadata": {},
   "outputs": [
    {
     "name": "stdin",
     "output_type": "stream",
     "text": [
      "Haluatko lisätä uuden asiakkaan tietokantaan? (K/E) (Kyllä/Ei) k\n",
      "etunimi:  Petteri\n",
      "sukunimi:  Nyman\n",
      "postinumero:  00254\n",
      "osoite:  Kauniskatu 723\n",
      "email:  PetteriN@hotmail.com\n"
     ]
    },
    {
     "name": "stdout",
     "output_type": "stream",
     "text": [
      "Tiedot syötetty onnistuneesti\n"
     ]
    }
   ],
   "source": [
    "from asiakas import asiakas \n",
    "asiakas.addAsiakas() "
   ]
  },
  {
   "cell_type": "markdown",
   "id": "55f7c2cb-87b1-4f8b-bed9-a1f051b4a6d3",
   "metadata": {},
   "source": [
    "# Asiakastaulun lukeminen"
   ]
  },
  {
   "cell_type": "code",
   "execution_count": 2,
   "id": "9d8b1dff-3202-4a75-9988-01347f88d57b",
   "metadata": {},
   "outputs": [
    {
     "data": {
      "text/html": [
       "<div>\n",
       "<style scoped>\n",
       "    .dataframe tbody tr th:only-of-type {\n",
       "        vertical-align: middle;\n",
       "    }\n",
       "\n",
       "    .dataframe tbody tr th {\n",
       "        vertical-align: top;\n",
       "    }\n",
       "\n",
       "    .dataframe thead th {\n",
       "        text-align: right;\n",
       "    }\n",
       "</style>\n",
       "<table border=\"1\" class=\"dataframe\">\n",
       "  <thead>\n",
       "    <tr style=\"text-align: right;\">\n",
       "      <th></th>\n",
       "      <th>asiakasID</th>\n",
       "      <th>etunimi</th>\n",
       "      <th>sukunimi</th>\n",
       "      <th>osoite</th>\n",
       "      <th>postinumero</th>\n",
       "      <th>email</th>\n",
       "    </tr>\n",
       "  </thead>\n",
       "  <tbody>\n",
       "    <tr>\n",
       "      <th>0</th>\n",
       "      <td>5</td>\n",
       "      <td>Asiakas</td>\n",
       "      <td>Anssi</td>\n",
       "      <td>Kuvitelmakaari 23</td>\n",
       "      <td>02945</td>\n",
       "      <td>asans@gmail.com</td>\n",
       "    </tr>\n",
       "    <tr>\n",
       "      <th>1</th>\n",
       "      <td>6</td>\n",
       "      <td>Petteri</td>\n",
       "      <td>Nyman</td>\n",
       "      <td>Kauniskatu 723</td>\n",
       "      <td>00254</td>\n",
       "      <td>PetteriN@hotmail.com</td>\n",
       "    </tr>\n",
       "  </tbody>\n",
       "</table>\n",
       "</div>"
      ],
      "text/plain": [
       "   asiakasID  etunimi sukunimi             osoite postinumero  \\\n",
       "0          5  Asiakas    Anssi  Kuvitelmakaari 23       02945   \n",
       "1          6  Petteri    Nyman     Kauniskatu 723       00254   \n",
       "\n",
       "                  email  \n",
       "0       asans@gmail.com  \n",
       "1  PetteriN@hotmail.com  "
      ]
     },
     "execution_count": 2,
     "metadata": {},
     "output_type": "execute_result"
    }
   ],
   "source": [
    "from asiakas import asiakas\n",
    "asiakas.readAsiakas()"
   ]
  },
  {
   "cell_type": "markdown",
   "id": "257880ae-e755-4a5b-b2b9-706a2f37e4f7",
   "metadata": {},
   "source": [
    "# Asiakastietojen muokkaaminen"
   ]
  },
  {
   "cell_type": "code",
   "execution_count": 15,
   "id": "f8c25826-e481-410d-81fe-3311b1a3968e",
   "metadata": {},
   "outputs": [
    {
     "name": "stdin",
     "output_type": "stream",
     "text": [
      "Haluatko muokata asiakastietoja? (K/E) (Kyllä/Ei) e\n"
     ]
    },
    {
     "name": "stdout",
     "output_type": "stream",
     "text": [
      "Pyyntö peruttu\n"
     ]
    }
   ],
   "source": [
    "from asiakas import asiakas\n",
    "asiakas.muokkaa()"
   ]
  },
  {
   "cell_type": "markdown",
   "id": "894470e9-3110-4d09-80a5-267bb40d1bcf",
   "metadata": {},
   "source": [
    "# Asiakkaan poistaminen"
   ]
  },
  {
   "cell_type": "code",
   "execution_count": 16,
   "id": "ed1b94c8-c3de-4bf6-a385-8be600a34dd7",
   "metadata": {},
   "outputs": [
    {
     "name": "stdin",
     "output_type": "stream",
     "text": [
      "haluatko poistaa asiakkaan tietokannasta? (K/E) (Kyllä/Ei) e\n"
     ]
    },
    {
     "name": "stdout",
     "output_type": "stream",
     "text": [
      "Pyyntö peruttu\n"
     ]
    }
   ],
   "source": [
    "from asiakas import asiakas\n",
    "asiakas.poistaAsiakas()"
   ]
  },
  {
   "cell_type": "markdown",
   "id": "e6ddd1f0-d9da-48b7-9d6c-17bff2a921cb",
   "metadata": {},
   "source": [
    "# Tuotteen lisäys tietokantaan"
   ]
  },
  {
   "cell_type": "code",
   "execution_count": 14,
   "id": "dd0b819d-8989-4cc5-acbb-d7bf59685e74",
   "metadata": {},
   "outputs": [
    {
     "name": "stdin",
     "output_type": "stream",
     "text": [
      "Haluatko lisätä tuotteen tietokantaan? (K/E) (Kyllä/Ei) k\n",
      "aseta tuotteen nimi Gibson Les Paul Tribute Satin Cherry Sunb\n",
      "aseta tuotteen hinta (€) 1399.00\n"
     ]
    },
    {
     "name": "stdout",
     "output_type": "stream",
     "text": [
      "Tuote lisätty onnistuneesti tietokantaan\n"
     ]
    }
   ],
   "source": [
    "from tuote import tuote\n",
    "tuote.addTuote()"
   ]
  },
  {
   "cell_type": "markdown",
   "id": "c1643d31-c300-44f6-abc4-357721fba7bc",
   "metadata": {},
   "source": [
    "# Tuotetaulun lukeminen"
   ]
  },
  {
   "cell_type": "code",
   "execution_count": 10,
   "id": "7fe5da0c-6038-450b-9b12-3a876caae346",
   "metadata": {},
   "outputs": [
    {
     "data": {
      "text/html": [
       "<div>\n",
       "<style scoped>\n",
       "    .dataframe tbody tr th:only-of-type {\n",
       "        vertical-align: middle;\n",
       "    }\n",
       "\n",
       "    .dataframe tbody tr th {\n",
       "        vertical-align: top;\n",
       "    }\n",
       "\n",
       "    .dataframe thead th {\n",
       "        text-align: right;\n",
       "    }\n",
       "</style>\n",
       "<table border=\"1\" class=\"dataframe\">\n",
       "  <thead>\n",
       "    <tr style=\"text-align: right;\">\n",
       "      <th></th>\n",
       "      <th>tuoteID</th>\n",
       "      <th>tuotenimi</th>\n",
       "      <th>tuotehinta</th>\n",
       "    </tr>\n",
       "  </thead>\n",
       "  <tbody>\n",
       "    <tr>\n",
       "      <th>0</th>\n",
       "      <td>1</td>\n",
       "      <td>Deusenberg DM2-CR-S Gran Majesto 2C, Cherry Rd</td>\n",
       "      <td>2550.0</td>\n",
       "    </tr>\n",
       "    <tr>\n",
       "      <th>1</th>\n",
       "      <td>2</td>\n",
       "      <td>Yamaha STORIAII2 Natural folk-kitara</td>\n",
       "      <td>345.0</td>\n",
       "    </tr>\n",
       "    <tr>\n",
       "      <th>2</th>\n",
       "      <td>3</td>\n",
       "      <td>Gibson Les Paul Tribute Satin Cherry Sunb</td>\n",
       "      <td>1399.0</td>\n",
       "    </tr>\n",
       "  </tbody>\n",
       "</table>\n",
       "</div>"
      ],
      "text/plain": [
       "   tuoteID                                       tuotenimi  tuotehinta\n",
       "0        1  Deusenberg DM2-CR-S Gran Majesto 2C, Cherry Rd      2550.0\n",
       "1        2            Yamaha STORIAII2 Natural folk-kitara       345.0\n",
       "2        3       Gibson Les Paul Tribute Satin Cherry Sunb      1399.0"
      ]
     },
     "execution_count": 10,
     "metadata": {},
     "output_type": "execute_result"
    }
   ],
   "source": [
    "from tuote import tuote\n",
    "tuote.readTuote()"
   ]
  },
  {
   "cell_type": "markdown",
   "id": "cd2ea8eb-6c68-4900-b631-23adf12fc26f",
   "metadata": {},
   "source": [
    "# Tuotteen postaminen tietokannasta"
   ]
  },
  {
   "cell_type": "code",
   "execution_count": 9,
   "id": "b8e55a9b-782c-43f2-b4cc-0fc179ec57a5",
   "metadata": {},
   "outputs": [
    {
     "name": "stdin",
     "output_type": "stream",
     "text": [
      "Haluatko poistaa tuotteen? (K/E) (Kyllä/Ei) e\n"
     ]
    },
    {
     "name": "stdout",
     "output_type": "stream",
     "text": [
      "Pyyntö peruttu\n"
     ]
    }
   ],
   "source": [
    "from tuote import tuote\n",
    "tuote.poistaTuote()"
   ]
  },
  {
   "cell_type": "markdown",
   "id": "1b9a6d67-3a5c-4e4a-86f3-fc755f6fd7d9",
   "metadata": {},
   "source": [
    "# Tilauksen tekeminen"
   ]
  },
  {
   "cell_type": "code",
   "execution_count": 17,
   "id": "ff9bb77b-5ce9-4a52-a905-2516cd6ec97a",
   "metadata": {},
   "outputs": [
    {
     "name": "stdout",
     "output_type": "stream",
     "text": [
      "   asiakasID  etunimi sukunimi             osoite postinumero            email\n",
      "0          5  Asiakas    Anssi  Kuvitelmakaari 23       02945  asans@gmail.com\n",
      "--------------------------------------------------------\n"
     ]
    },
    {
     "name": "stdin",
     "output_type": "stream",
     "text": [
      "Syötä asiakasID jatkaaksesi:  5\n"
     ]
    },
    {
     "name": "stdout",
     "output_type": "stream",
     "text": [
      "--------------------------------------------------------\n",
      "Ostoskorisi sisältö (tuoteID):  []\n",
      "   tuoteID                                       tuotenimi  tuotehinta\n",
      "0        1  Deusenberg DM2-CR-S Gran Majesto 2C, Cherry Rd      2550.0\n",
      "1        2            Yamaha STORIAII2 Natural folk-kitara       345.0\n",
      "2        3       Gibson Les Paul Tribute Satin Cherry Sunb      1399.0\n",
      "Voit poistua vastaamalla 'exit'\n",
      "Lisää tuotteen tuoteID tai vastaa 'tilaa' vahvistaaksesi tilauksen: \n",
      "\n"
     ]
    },
    {
     "name": "stdin",
     "output_type": "stream",
     "text": [
      "Valitse tuotteen tuoteID tai vahvista tilaus (tilaa/exit):  2\n"
     ]
    },
    {
     "name": "stdout",
     "output_type": "stream",
     "text": [
      "   tuoteID                                       tuotenimi  tuotehinta\n",
      "0        1  Deusenberg DM2-CR-S Gran Majesto 2C, Cherry Rd      2550.0\n",
      "1        2            Yamaha STORIAII2 Natural folk-kitara       345.0\n",
      "2        3       Gibson Les Paul Tribute Satin Cherry Sunb      1399.0\n",
      "Tuote 2 on nyt lisätty ostoskoriin\n",
      "--------------------------------------------------------\n",
      "Ostoskorisi sisältö (tuoteID):  ['2']\n",
      "   tuoteID                                       tuotenimi  tuotehinta\n",
      "0        1  Deusenberg DM2-CR-S Gran Majesto 2C, Cherry Rd      2550.0\n",
      "1        2            Yamaha STORIAII2 Natural folk-kitara       345.0\n",
      "2        3       Gibson Les Paul Tribute Satin Cherry Sunb      1399.0\n",
      "Voit poistua vastaamalla 'exit'\n",
      "Lisää tuotteen tuoteID tai vastaa 'tilaa' vahvistaaksesi tilauksen: \n",
      "\n"
     ]
    },
    {
     "name": "stdin",
     "output_type": "stream",
     "text": [
      "Valitse tuotteen tuoteID tai vahvista tilaus (tilaa/exit):  tilaa\n"
     ]
    },
    {
     "data": {
      "text/plain": [
       "'Tilaus luotu'"
      ]
     },
     "execution_count": 17,
     "metadata": {},
     "output_type": "execute_result"
    }
   ],
   "source": [
    "from tilaus import tilaus\n",
    "tilaus.ostosKori()\n",
    "\n"
   ]
  },
  {
   "cell_type": "markdown",
   "id": "867d089b-fbf3-4115-9134-c0df2211692f",
   "metadata": {},
   "source": [
    "# Tilaustaulun lukeminen"
   ]
  },
  {
   "cell_type": "code",
   "execution_count": 18,
   "id": "e2bf35c2-e955-419c-a462-b57aea0cc373",
   "metadata": {},
   "outputs": [
    {
     "data": {
      "text/html": [
       "<div>\n",
       "<style scoped>\n",
       "    .dataframe tbody tr th:only-of-type {\n",
       "        vertical-align: middle;\n",
       "    }\n",
       "\n",
       "    .dataframe tbody tr th {\n",
       "        vertical-align: top;\n",
       "    }\n",
       "\n",
       "    .dataframe thead th {\n",
       "        text-align: right;\n",
       "    }\n",
       "</style>\n",
       "<table border=\"1\" class=\"dataframe\">\n",
       "  <thead>\n",
       "    <tr style=\"text-align: right;\">\n",
       "      <th></th>\n",
       "      <th>tilausID</th>\n",
       "      <th>tuotteet</th>\n",
       "      <th>tilausPVM</th>\n",
       "      <th>asiakasID</th>\n",
       "    </tr>\n",
       "  </thead>\n",
       "  <tbody>\n",
       "    <tr>\n",
       "      <th>0</th>\n",
       "      <td>5</td>\n",
       "      <td>2</td>\n",
       "      <td>2023-04-21</td>\n",
       "      <td>5</td>\n",
       "    </tr>\n",
       "  </tbody>\n",
       "</table>\n",
       "</div>"
      ],
      "text/plain": [
       "   tilausID tuotteet   tilausPVM  asiakasID\n",
       "0         5        2  2023-04-21          5"
      ]
     },
     "execution_count": 18,
     "metadata": {},
     "output_type": "execute_result"
    }
   ],
   "source": [
    "from tilaus import tilaus\n",
    "# tuotteet ovat tuoteID:n mukaan ja csv formaatissa.\n",
    "tilaus.readTilaus()"
   ]
  },
  {
   "cell_type": "markdown",
   "id": "418e07ec-4a46-4db3-9b5b-2afbfbbf49ba",
   "metadata": {},
   "source": [
    "# Tilauksen poistaminen"
   ]
  },
  {
   "cell_type": "code",
   "execution_count": 19,
   "id": "66aa9340-7006-42f7-ba68-f4146ffcd4a1",
   "metadata": {},
   "outputs": [
    {
     "name": "stdin",
     "output_type": "stream",
     "text": [
      "Haluatko poistaa tuotteen? (K/E) (Kyllä/Ei) e\n"
     ]
    },
    {
     "name": "stdout",
     "output_type": "stream",
     "text": [
      "Pyyntö peruttu\n"
     ]
    }
   ],
   "source": [
    "from tilaus import tilaus\n",
    "tilaus.poistaTilaus()"
   ]
  },
  {
   "cell_type": "markdown",
   "id": "9d766ece-2619-4c06-b294-d0bb3624d51e",
   "metadata": {},
   "source": [
    "# Tilauksen sisällön tarkastelu (tilausID:n perusteella)"
   ]
  },
  {
   "cell_type": "code",
   "execution_count": 20,
   "id": "55a5d5b9-6eb2-4dc6-b808-b188b7d43fc0",
   "metadata": {},
   "outputs": [
    {
     "name": "stdout",
     "output_type": "stream",
     "text": [
      "   tilausID tuotteet   tilausPVM  asiakasID\n",
      "0         5        2  2023-04-21          5\n"
     ]
    },
    {
     "name": "stdin",
     "output_type": "stream",
     "text": [
      "Anna tilauksen tilausID:  5\n"
     ]
    },
    {
     "name": "stdout",
     "output_type": "stream",
     "text": [
      "\n",
      "Asiakas\n",
      "Anssi\n",
      "02945\n",
      "Kuvitelmakaari 23\n",
      "\n",
      "--------------------------------------------------\n",
      "                              tuotenimi  tuotehinta\n",
      "0  Yamaha STORIAII2 Natural folk-kitara       345.0\n",
      "Tilauksen kokonaissumma: 345.0\n",
      "--------------------------------------------------\n"
     ]
    }
   ],
   "source": [
    "from tilaus import tilaus\n",
    "tilaus.tilauksenSisalto()"
   ]
  },
  {
   "cell_type": "code",
   "execution_count": null,
   "id": "0267cf30-cff4-497e-b0eb-654c35efcbe4",
   "metadata": {},
   "outputs": [],
   "source": []
  }
 ],
 "metadata": {
  "kernelspec": {
   "display_name": "Python 3 (ipykernel)",
   "language": "python",
   "name": "python3"
  },
  "language_info": {
   "codemirror_mode": {
    "name": "ipython",
    "version": 3
   },
   "file_extension": ".py",
   "mimetype": "text/x-python",
   "name": "python",
   "nbconvert_exporter": "python",
   "pygments_lexer": "ipython3",
   "version": "3.10.5"
  }
 },
 "nbformat": 4,
 "nbformat_minor": 5
}
