{
 "cells": [
  {
   "cell_type": "markdown",
   "id": "f15739e7-e63c-4e02-afb2-cb3a7f866e0d",
   "metadata": {},
   "source": [
    "## Asiakastaulun lukeminen"
   ]
  },
  {
   "cell_type": "code",
   "execution_count": 2,
   "id": "1a598327-843e-49b6-96bf-9e0c020625fe",
   "metadata": {},
   "outputs": [
    {
     "data": {
      "text/html": [
       "<div>\n",
       "<style scoped>\n",
       "    .dataframe tbody tr th:only-of-type {\n",
       "        vertical-align: middle;\n",
       "    }\n",
       "\n",
       "    .dataframe tbody tr th {\n",
       "        vertical-align: top;\n",
       "    }\n",
       "\n",
       "    .dataframe thead th {\n",
       "        text-align: right;\n",
       "    }\n",
       "</style>\n",
       "<table border=\"1\" class=\"dataframe\">\n",
       "  <thead>\n",
       "    <tr style=\"text-align: right;\">\n",
       "      <th></th>\n",
       "      <th>asiakasID</th>\n",
       "      <th>etunimi</th>\n",
       "      <th>sukunimi</th>\n",
       "      <th>osoite</th>\n",
       "      <th>postinumero</th>\n",
       "      <th>email</th>\n",
       "    </tr>\n",
       "  </thead>\n",
       "  <tbody>\n",
       "    <tr>\n",
       "      <th>0</th>\n",
       "      <td>1</td>\n",
       "      <td>Benjam</td>\n",
       "      <td>Alander</td>\n",
       "      <td>Tilanhoitajankaari 22 A 8</td>\n",
       "      <td>00790</td>\n",
       "      <td>alander.benjam@hotmail.com</td>\n",
       "    </tr>\n",
       "    <tr>\n",
       "      <th>1</th>\n",
       "      <td>2</td>\n",
       "      <td>Ella</td>\n",
       "      <td>Kanerva</td>\n",
       "      <td>Tilanhoitajankaari 22 A 8</td>\n",
       "      <td>00790</td>\n",
       "      <td>ellakanerva@gmail.com</td>\n",
       "    </tr>\n",
       "  </tbody>\n",
       "</table>\n",
       "</div>"
      ],
      "text/plain": [
       "   asiakasID etunimi sukunimi                     osoite postinumero  \\\n",
       "0          1  Benjam  Alander  Tilanhoitajankaari 22 A 8       00790   \n",
       "1          2    Ella  Kanerva  Tilanhoitajankaari 22 A 8       00790   \n",
       "\n",
       "                        email  \n",
       "0  alander.benjam@hotmail.com  \n",
       "1       ellakanerva@gmail.com  "
      ]
     },
     "execution_count": 2,
     "metadata": {},
     "output_type": "execute_result"
    }
   ],
   "source": [
    "from asiakas import asiakas\n",
    "asiakas.readAsiakas()"
   ]
  },
  {
   "cell_type": "markdown",
   "id": "99e4df01-d23d-4469-aaad-7b0efcbfa767",
   "metadata": {},
   "source": [
    "## Tuotetaulun lukeminen"
   ]
  },
  {
   "cell_type": "code",
   "execution_count": 3,
   "id": "df402b86-1df1-4933-b433-f0fb78c95987",
   "metadata": {},
   "outputs": [
    {
     "data": {
      "text/html": [
       "<div>\n",
       "<style scoped>\n",
       "    .dataframe tbody tr th:only-of-type {\n",
       "        vertical-align: middle;\n",
       "    }\n",
       "\n",
       "    .dataframe tbody tr th {\n",
       "        vertical-align: top;\n",
       "    }\n",
       "\n",
       "    .dataframe thead th {\n",
       "        text-align: right;\n",
       "    }\n",
       "</style>\n",
       "<table border=\"1\" class=\"dataframe\">\n",
       "  <thead>\n",
       "    <tr style=\"text-align: right;\">\n",
       "      <th></th>\n",
       "      <th>tuoteID</th>\n",
       "      <th>tuotenimi</th>\n",
       "      <th>tuotehinta</th>\n",
       "    </tr>\n",
       "  </thead>\n",
       "  <tbody>\n",
       "    <tr>\n",
       "      <th>0</th>\n",
       "      <td>1</td>\n",
       "      <td>Deusenberg DM2-CR-S Gran Majesto 2C, Cherry Rd</td>\n",
       "      <td>2550.0</td>\n",
       "    </tr>\n",
       "    <tr>\n",
       "      <th>1</th>\n",
       "      <td>2</td>\n",
       "      <td>Yamaha STORIAII2 Natural folk-kitara</td>\n",
       "      <td>345.0</td>\n",
       "    </tr>\n",
       "    <tr>\n",
       "      <th>2</th>\n",
       "      <td>3</td>\n",
       "      <td>Gibson Les Paul Tribute Satin Cherry Sunb</td>\n",
       "      <td>1399.0</td>\n",
       "    </tr>\n",
       "  </tbody>\n",
       "</table>\n",
       "</div>"
      ],
      "text/plain": [
       "   tuoteID                                       tuotenimi  tuotehinta\n",
       "0        1  Deusenberg DM2-CR-S Gran Majesto 2C, Cherry Rd      2550.0\n",
       "1        2            Yamaha STORIAII2 Natural folk-kitara       345.0\n",
       "2        3       Gibson Les Paul Tribute Satin Cherry Sunb      1399.0"
      ]
     },
     "execution_count": 3,
     "metadata": {},
     "output_type": "execute_result"
    }
   ],
   "source": [
    "from tuote import tuote\n",
    "tuote.readTuote()"
   ]
  },
  {
   "cell_type": "markdown",
   "id": "50e317e6-e42e-403a-839c-8f88b4b68e83",
   "metadata": {},
   "source": [
    "## Tilaustaulun lukeminen"
   ]
  },
  {
   "cell_type": "code",
   "execution_count": 3,
   "id": "b3f48ed1-5415-4a83-bcd5-8058680cf085",
   "metadata": {},
   "outputs": [
    {
     "data": {
      "text/html": [
       "<div>\n",
       "<style scoped>\n",
       "    .dataframe tbody tr th:only-of-type {\n",
       "        vertical-align: middle;\n",
       "    }\n",
       "\n",
       "    .dataframe tbody tr th {\n",
       "        vertical-align: top;\n",
       "    }\n",
       "\n",
       "    .dataframe thead th {\n",
       "        text-align: right;\n",
       "    }\n",
       "</style>\n",
       "<table border=\"1\" class=\"dataframe\">\n",
       "  <thead>\n",
       "    <tr style=\"text-align: right;\">\n",
       "      <th></th>\n",
       "      <th>tilausID</th>\n",
       "      <th>tuotteet</th>\n",
       "      <th>tilausPVM</th>\n",
       "      <th>asiakasID</th>\n",
       "    </tr>\n",
       "  </thead>\n",
       "  <tbody>\n",
       "    <tr>\n",
       "      <th>0</th>\n",
       "      <td>2</td>\n",
       "      <td>1,2,3</td>\n",
       "      <td>2023-04-12</td>\n",
       "      <td>1</td>\n",
       "    </tr>\n",
       "    <tr>\n",
       "      <th>1</th>\n",
       "      <td>3</td>\n",
       "      <td>2,3</td>\n",
       "      <td>2023-04-12</td>\n",
       "      <td>2</td>\n",
       "    </tr>\n",
       "  </tbody>\n",
       "</table>\n",
       "</div>"
      ],
      "text/plain": [
       "   tilausID tuotteet   tilausPVM  asiakasID\n",
       "0         2    1,2,3  2023-04-12          1\n",
       "1         3      2,3  2023-04-12          2"
      ]
     },
     "execution_count": 3,
     "metadata": {},
     "output_type": "execute_result"
    }
   ],
   "source": [
    "from tilaus import tilaus\n",
    "tilaus.readTilaus()"
   ]
  },
  {
   "cell_type": "markdown",
   "id": "00fee67b-0407-408d-bb35-50fbe7854379",
   "metadata": {},
   "source": [
    "## Tilauksen sisällön tarkistelu (tilausID:n perusteella)"
   ]
  },
  {
   "cell_type": "code",
   "execution_count": 1,
   "id": "d3b9ff37-fe2c-4d9b-b73c-095a3131531f",
   "metadata": {},
   "outputs": [
    {
     "name": "stdout",
     "output_type": "stream",
     "text": [
      "   tilausID tuotteet   tilausPVM  asiakasID\n",
      "0         2    1,2,3  2023-04-12          1\n",
      "1         3      2,3  2023-04-12          2\n"
     ]
    },
    {
     "name": "stdin",
     "output_type": "stream",
     "text": [
      "Anna tilauksen tilausID:  2\n"
     ]
    },
    {
     "name": "stdout",
     "output_type": "stream",
     "text": [
      "\n",
      "Benjam\n",
      "Alander\n",
      "00790\n",
      "Tilanhoitajankaari 22 A 8\n",
      "\n",
      "--------------------------------------------------\n",
      "                                        tuotenimi  tuotehinta\n",
      "0  Deusenberg DM2-CR-S Gran Majesto 2C, Cherry Rd      2550.0\n",
      "1            Yamaha STORIAII2 Natural folk-kitara       345.0\n",
      "2       Gibson Les Paul Tribute Satin Cherry Sunb      1399.0\n",
      "Tilauksen kokonaissumma: 4294.0\n",
      "--------------------------------------------------\n"
     ]
    }
   ],
   "source": [
    "from tilaus import tilaus\n",
    "tilaus.tilauksenSisalto()"
   ]
  },
  {
   "cell_type": "markdown",
   "id": "2964b35e-ba15-4180-b4d4-a232c51736f8",
   "metadata": {},
   "source": [
    "## Kokonaismyynnin laskeminen tilausten perusteella"
   ]
  },
  {
   "cell_type": "code",
   "execution_count": 2,
   "id": "10e1e37f-cd42-4a8c-bf8a-bd8520b4ebdb",
   "metadata": {},
   "outputs": [
    {
     "name": "stdout",
     "output_type": "stream",
     "text": [
      "   total_sales\n",
      "0       6038.0\n"
     ]
    }
   ],
   "source": [
    "from tilaus import tilaus\n",
    "tilaus.tilaustenTuotto()"
   ]
  },
  {
   "cell_type": "code",
   "execution_count": null,
   "id": "c04e8cda-0653-4bf8-8f53-1277354fc560",
   "metadata": {},
   "outputs": [],
   "source": []
  }
 ],
 "metadata": {
  "kernelspec": {
   "display_name": "Python 3 (ipykernel)",
   "language": "python",
   "name": "python3"
  },
  "language_info": {
   "codemirror_mode": {
    "name": "ipython",
    "version": 3
   },
   "file_extension": ".py",
   "mimetype": "text/x-python",
   "name": "python",
   "nbconvert_exporter": "python",
   "pygments_lexer": "ipython3",
   "version": "3.10.5"
  }
 },
 "nbformat": 4,
 "nbformat_minor": 5
}
