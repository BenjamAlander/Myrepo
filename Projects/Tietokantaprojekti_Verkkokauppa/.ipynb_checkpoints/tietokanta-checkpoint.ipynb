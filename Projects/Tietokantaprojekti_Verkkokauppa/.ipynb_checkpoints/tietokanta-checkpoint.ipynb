{
 "cells": [
  {
   "cell_type": "code",
   "execution_count": 13,
   "id": "2772e173-88e5-4462-ba81-562b144af37b",
   "metadata": {},
   "outputs": [
    {
     "data": {
      "text/html": [
       "Query OK"
      ]
     },
     "metadata": {},
     "output_type": "display_data"
    }
   ],
   "source": [
    "DROP DATABASE tietokantaprojekti;"
   ]
  },
  {
   "cell_type": "code",
   "execution_count": 14,
   "id": "53e4cc04-2d5b-4dba-b0a1-3087a7e3f930",
   "metadata": {},
   "outputs": [
    {
     "data": {
      "text/html": [
       "Query OK"
      ]
     },
     "metadata": {},
     "output_type": "display_data"
    }
   ],
   "source": [
    "CREATE DATABASE tietokantaprojekti;"
   ]
  },
  {
   "cell_type": "code",
   "execution_count": 15,
   "id": "6a6536c4-8677-44f7-851d-5fa1923ee3e6",
   "metadata": {},
   "outputs": [
    {
     "data": {
      "text/html": [
       "Query OK"
      ]
     },
     "metadata": {},
     "output_type": "display_data"
    }
   ],
   "source": [
    "USE tietokantaprojekti;"
   ]
  },
  {
   "cell_type": "code",
   "execution_count": 16,
   "id": "48d91e08-59ee-4a7b-8e5b-88529ad5100a",
   "metadata": {},
   "outputs": [
    {
     "data": {
      "text/html": [
       "Query OK"
      ]
     },
     "metadata": {},
     "output_type": "display_data"
    }
   ],
   "source": [
    "CREATE TABLE asiakas(\n",
    "asiakasID INT PRIMARY KEY NOT NULL  AUTO_INCREMENT,\n",
    "etunimi VARCHAR(30) NOT NULL,\n",
    "sukunimi VARCHAR(30) NOT NULL,\n",
    "osoite VARCHAR(50) NULL,\n",
    "postinumero VARCHAR(10) NULL,\n",
    "email VARCHAR(30) NULL \n",
    ");\n",
    "\n",
    "CREATE TABLE tilaus(\n",
    "tilausID INT PRIMARY KEY NOT NULL AUTO_INCREMENT, \n",
    "tuotteet VARCHAR(50) NOT NULL,\n",
    "tilausPVM DATE NOT NULL,\n",
    "asiakasID INT,\n",
    "FOREIGN KEY (asiakasID) REFERENCES asiakas(asiakasID)\n",
    ");\n",
    "\n",
    "CREATE TABLE tuote(\n",
    "tuoteID INT PRIMARY KEY NOT NULL AUTO_INCREMENT,\n",
    "tuotenimi VARCHAR(64) NOT NULL,\n",
    "tuotehinta FLOAT \n",
    ");\n",
    "\n"
   ]
  },
  {
   "cell_type": "code",
   "execution_count": 6,
   "id": "bb3e6180-91c5-4839-8a5d-9033c48d0374",
   "metadata": {},
   "outputs": [
    {
     "data": {
      "text/html": [
       "<html><body><table border=\"1\" style=\"margin-left: 0\"><tr><th style=\"text-align:left;white-space:pre\">Field</th><th style=\"text-align:left;white-space:pre\">Type</th><th style=\"text-align:left;white-space:pre\">Null</th><th style=\"text-align:left;white-space:pre\">Key</th><th style=\"text-align:left;white-space:pre\">Default</th><th style=\"text-align:left;white-space:pre\">Extra</th></tr><tr><td style=\"text-align:left;white-space:pre\">tuoteID</td><td style=\"text-align:left;white-space:pre\">int(11)</td><td style=\"text-align:left;white-space:pre\">NO</td><td style=\"text-align:left;white-space:pre\">PRI</td><td style=\"text-align:left;white-space:pre\">NULL</td><td style=\"text-align:left;white-space:pre\">auto_increment</td></tr><tr><td style=\"text-align:left;white-space:pre\">tuotenimi</td><td style=\"text-align:left;white-space:pre\">varchar(64)</td><td style=\"text-align:left;white-space:pre\">NO</td><td style=\"text-align:left;white-space:pre\"></td><td style=\"text-align:left;white-space:pre\">NULL</td><td style=\"text-align:left;white-space:pre\"></td></tr><tr><td style=\"text-align:left;white-space:pre\">tuotehinta</td><td style=\"text-align:left;white-space:pre\">float</td><td style=\"text-align:left;white-space:pre\">YES</td><td style=\"text-align:left;white-space:pre\"></td><td style=\"text-align:left;white-space:pre\">NULL</td><td style=\"text-align:left;white-space:pre\"></td></tr></table><table border=\"1\"><tr><th style=\"text-align:left;white-space:pre\">Field</th><th style=\"text-align:left;white-space:pre\">Type</th><th style=\"text-align:left;white-space:pre\">Null</th><th style=\"text-align:left;white-space:pre\">Key</th><th style=\"text-align:left;white-space:pre\">Default</th><th style=\"text-align:left;white-space:pre\">Extra</th></tr><tr><td style=\"text-align:left;white-space:pre\">tilausID</td><td style=\"text-align:left;white-space:pre\">int(11)</td><td style=\"text-align:left;white-space:pre\">NO</td><td style=\"text-align:left;white-space:pre\">PRI</td><td style=\"text-align:left;white-space:pre\">NULL</td><td style=\"text-align:left;white-space:pre\">auto_increment</td></tr><tr><td style=\"text-align:left;white-space:pre\">tuotteet</td><td style=\"text-align:left;white-space:pre\">varchar(50)</td><td style=\"text-align:left;white-space:pre\">NO</td><td style=\"text-align:left;white-space:pre\"></td><td style=\"text-align:left;white-space:pre\">NULL</td><td style=\"text-align:left;white-space:pre\"></td></tr><tr><td style=\"text-align:left;white-space:pre\">tilausPVM</td><td style=\"text-align:left;white-space:pre\">date</td><td style=\"text-align:left;white-space:pre\">NO</td><td style=\"text-align:left;white-space:pre\"></td><td style=\"text-align:left;white-space:pre\">NULL</td><td style=\"text-align:left;white-space:pre\"></td></tr><tr><td style=\"text-align:left;white-space:pre\">asiakasID</td><td style=\"text-align:left;white-space:pre\">int(11)</td><td style=\"text-align:left;white-space:pre\">YES</td><td style=\"text-align:left;white-space:pre\">MUL</td><td style=\"text-align:left;white-space:pre\">NULL</td><td style=\"text-align:left;white-space:pre\"></td></tr></table><table border=\"1\"><tr><th style=\"text-align:left;white-space:pre\">Field</th><th style=\"text-align:left;white-space:pre\">Type</th><th style=\"text-align:left;white-space:pre\">Null</th><th style=\"text-align:left;white-space:pre\">Key</th><th style=\"text-align:left;white-space:pre\">Default</th><th style=\"text-align:left;white-space:pre\">Extra</th></tr><tr><td style=\"text-align:left;white-space:pre\">asiakasID</td><td style=\"text-align:left;white-space:pre\">int(11)</td><td style=\"text-align:left;white-space:pre\">NO</td><td style=\"text-align:left;white-space:pre\">PRI</td><td style=\"text-align:left;white-space:pre\">NULL</td><td style=\"text-align:left;white-space:pre\">auto_increment</td></tr><tr><td style=\"text-align:left;white-space:pre\">etunimi</td><td style=\"text-align:left;white-space:pre\">varchar(30)</td><td style=\"text-align:left;white-space:pre\">NO</td><td style=\"text-align:left;white-space:pre\"></td><td style=\"text-align:left;white-space:pre\">NULL</td><td style=\"text-align:left;white-space:pre\"></td></tr><tr><td style=\"text-align:left;white-space:pre\">sukunimi</td><td style=\"text-align:left;white-space:pre\">varchar(30)</td><td style=\"text-align:left;white-space:pre\">NO</td><td style=\"text-align:left;white-space:pre\"></td><td style=\"text-align:left;white-space:pre\">NULL</td><td style=\"text-align:left;white-space:pre\"></td></tr><tr><td style=\"text-align:left;white-space:pre\">osoite</td><td style=\"text-align:left;white-space:pre\">varchar(50)</td><td style=\"text-align:left;white-space:pre\">YES</td><td style=\"text-align:left;white-space:pre\"></td><td style=\"text-align:left;white-space:pre\">NULL</td><td style=\"text-align:left;white-space:pre\"></td></tr><tr><td style=\"text-align:left;white-space:pre\">email</td><td style=\"text-align:left;white-space:pre\">varchar(30)</td><td style=\"text-align:left;white-space:pre\">YES</td><td style=\"text-align:left;white-space:pre\"></td><td style=\"text-align:left;white-space:pre\">NULL</td><td style=\"text-align:left;white-space:pre\"></td></tr></table></body></html>"
      ]
     },
     "metadata": {},
     "output_type": "display_data"
    }
   ],
   "source": [
    "DESCRIBE tuote;\n",
    "DESCRIBE tilaus;\n",
    "DESCRIBE asiakas;"
   ]
  },
  {
   "cell_type": "code",
   "execution_count": 7,
   "id": "06af1c44-b203-4dfb-a673-176780732933",
   "metadata": {},
   "outputs": [
    {
     "data": {
      "text/html": [
       "Query OK"
      ]
     },
     "metadata": {},
     "output_type": "display_data"
    }
   ],
   "source": [
    "SELECT * FROM asiakas;"
   ]
  },
  {
   "cell_type": "code",
   "execution_count": 8,
   "id": "bf1ca499-e419-4a46-9d7d-25a54f7676cd",
   "metadata": {},
   "outputs": [
    {
     "data": {
      "text/html": [
       "Query OK"
      ]
     },
     "metadata": {},
     "output_type": "display_data"
    }
   ],
   "source": [
    "SELECT * FROM tuote;"
   ]
  },
  {
   "cell_type": "code",
   "execution_count": 4,
   "id": "62c49fa2-a875-4098-8402-ab9d1c426537",
   "metadata": {},
   "outputs": [
    {
     "data": {
      "text/html": [
       "<html><body><table border=\"1\" style=\"margin-left: 0\"><tr><th style=\"text-align:left;white-space:pre\">tilausID</th><th style=\"text-align:left;white-space:pre\">tilaus</th><th style=\"text-align:left;white-space:pre\">tilausPVM</th><th style=\"text-align:left;white-space:pre\">asiakasID</th></tr><tr><td style=\"text-align:left;white-space:pre\">1</td><td style=\"text-align:left;white-space:pre\">1</td><td style=\"text-align:left;white-space:pre\">2023-04-07</td><td style=\"text-align:left;white-space:pre\">2</td></tr></table></body></html>"
      ]
     },
     "metadata": {},
     "output_type": "display_data"
    }
   ],
   "source": [
    "SELECT * FROM tilaus;"
   ]
  },
  {
   "cell_type": "code",
   "execution_count": null,
   "id": "96777205-2537-4378-8a1f-cf439e9c2c0a",
   "metadata": {},
   "outputs": [],
   "source": []
  }
 ],
 "metadata": {
  "kernelspec": {
   "display_name": "MariaDB",
   "language": "SQL",
   "name": "mariadb_kernel"
  },
  "language_info": {
   "file_extension": ".sql",
   "mimetype": "text/plain",
   "name": "SQL"
  }
 },
 "nbformat": 4,
 "nbformat_minor": 5
}
