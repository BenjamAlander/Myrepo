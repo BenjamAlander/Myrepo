{
 "cells": [
  {
   "cell_type": "code",
   "execution_count": 1,
   "id": "dd78d251-811a-49eb-8507-3115ab2746f8",
   "metadata": {},
   "outputs": [
    {
     "name": "stdout",
     "output_type": "stream",
     "text": [
      "Collecting pymysql\n",
      "  Downloading PyMySQL-1.0.3-py3-none-any.whl (43 kB)\n",
      "     ---------------------------------------- 43.7/43.7 kB ? eta 0:00:00\n",
      "Installing collected packages: pymysql\n",
      "Successfully installed pymysql-1.0.3\n",
      "Collecting ipython-sql\n",
      "  Downloading ipython_sql-0.5.0-py3-none-any.whl (20 kB)\n",
      "Requirement already satisfied: six in c:\\users\\aland\\anaconda3\\lib\\site-packages (from ipython-sql) (1.16.0)\n",
      "Requirement already satisfied: ipython-genutils in c:\\users\\aland\\anaconda3\\lib\\site-packages (from ipython-sql) (0.2.0)\n",
      "Requirement already satisfied: ipython in c:\\users\\aland\\anaconda3\\lib\\site-packages (from ipython-sql) (8.10.0)\n",
      "Collecting prettytable\n",
      "  Downloading prettytable-3.7.0-py3-none-any.whl (27 kB)\n",
      "Collecting sqlparse\n",
      "  Downloading sqlparse-0.4.4-py3-none-any.whl (41 kB)\n",
      "     ---------------------------------------- 41.2/41.2 kB ? eta 0:00:00\n",
      "Collecting sqlalchemy>=2.0\n",
      "  Downloading SQLAlchemy-2.0.9-cp310-cp310-win_amd64.whl (2.0 MB)\n",
      "     ---------------------------------------- 2.0/2.0 MB 31.0 MB/s eta 0:00:00\n",
      "Requirement already satisfied: greenlet!=0.4.17 in c:\\users\\aland\\anaconda3\\lib\\site-packages (from sqlalchemy>=2.0->ipython-sql) (2.0.1)\n",
      "Requirement already satisfied: typing-extensions>=4.2.0 in c:\\users\\aland\\anaconda3\\lib\\site-packages (from sqlalchemy>=2.0->ipython-sql) (4.4.0)\n",
      "Requirement already satisfied: matplotlib-inline in c:\\users\\aland\\anaconda3\\lib\\site-packages (from ipython->ipython-sql) (0.1.6)\n",
      "Requirement already satisfied: pickleshare in c:\\users\\aland\\anaconda3\\lib\\site-packages (from ipython->ipython-sql) (0.7.5)\n",
      "Requirement already satisfied: traitlets>=5 in c:\\users\\aland\\anaconda3\\lib\\site-packages (from ipython->ipython-sql) (5.7.1)\n",
      "Requirement already satisfied: colorama in c:\\users\\aland\\anaconda3\\lib\\site-packages (from ipython->ipython-sql) (0.4.6)\n",
      "Requirement already satisfied: prompt-toolkit<3.1.0,>=3.0.30 in c:\\users\\aland\\anaconda3\\lib\\site-packages (from ipython->ipython-sql) (3.0.36)\n",
      "Requirement already satisfied: jedi>=0.16 in c:\\users\\aland\\anaconda3\\lib\\site-packages (from ipython->ipython-sql) (0.18.1)\n",
      "Requirement already satisfied: backcall in c:\\users\\aland\\anaconda3\\lib\\site-packages (from ipython->ipython-sql) (0.2.0)\n",
      "Requirement already satisfied: stack-data in c:\\users\\aland\\anaconda3\\lib\\site-packages (from ipython->ipython-sql) (0.2.0)\n",
      "Requirement already satisfied: pygments>=2.4.0 in c:\\users\\aland\\anaconda3\\lib\\site-packages (from ipython->ipython-sql) (2.11.2)\n",
      "Requirement already satisfied: decorator in c:\\users\\aland\\anaconda3\\lib\\site-packages (from ipython->ipython-sql) (5.1.1)\n",
      "Requirement already satisfied: wcwidth in c:\\users\\aland\\anaconda3\\lib\\site-packages (from prettytable->ipython-sql) (0.2.5)\n",
      "Requirement already satisfied: parso<0.9.0,>=0.8.0 in c:\\users\\aland\\anaconda3\\lib\\site-packages (from jedi>=0.16->ipython->ipython-sql) (0.8.3)\n",
      "Requirement already satisfied: asttokens in c:\\users\\aland\\anaconda3\\lib\\site-packages (from stack-data->ipython->ipython-sql) (2.0.5)\n",
      "Requirement already satisfied: executing in c:\\users\\aland\\anaconda3\\lib\\site-packages (from stack-data->ipython->ipython-sql) (0.8.3)\n",
      "Requirement already satisfied: pure-eval in c:\\users\\aland\\anaconda3\\lib\\site-packages (from stack-data->ipython->ipython-sql) (0.2.2)\n",
      "Installing collected packages: sqlparse, sqlalchemy, prettytable, ipython-sql\n",
      "  Attempting uninstall: sqlalchemy\n",
      "    Found existing installation: SQLAlchemy 1.4.39\n",
      "    Uninstalling SQLAlchemy-1.4.39:\n",
      "      Successfully uninstalled SQLAlchemy-1.4.39\n",
      "Successfully installed ipython-sql-0.5.0 prettytable-3.7.0 sqlalchemy-2.0.9 sqlparse-0.4.4\n",
      "Collecting mysqlclient\n",
      "  Using cached mysqlclient-2.1.1-cp310-cp310-win_amd64.whl (178 kB)\n",
      "Installing collected packages: mysqlclient\n",
      "Successfully installed mysqlclient-2.1.1\n",
      "Collecting mysql-connector-python\n",
      "  Downloading mysql_connector_python-8.0.33-cp310-cp310-win_amd64.whl (9.6 MB)\n",
      "     ---------------------------------------- 9.6/9.6 MB 27.9 MB/s eta 0:00:00\n",
      "Collecting protobuf<=3.20.3,>=3.11.0\n",
      "  Using cached protobuf-3.20.3-cp310-cp310-win_amd64.whl (904 kB)\n",
      "Installing collected packages: protobuf, mysql-connector-python\n",
      "Successfully installed mysql-connector-python-8.0.33 protobuf-3.20.3\n",
      "Requirement already satisfied: pandas in c:\\users\\aland\\anaconda3\\lib\\site-packages (1.5.3)\n",
      "Requirement already satisfied: pytz>=2020.1 in c:\\users\\aland\\anaconda3\\lib\\site-packages (from pandas) (2022.7)\n",
      "Requirement already satisfied: numpy>=1.21.0 in c:\\users\\aland\\anaconda3\\lib\\site-packages (from pandas) (1.23.5)\n",
      "Requirement already satisfied: python-dateutil>=2.8.1 in c:\\users\\aland\\anaconda3\\lib\\site-packages (from pandas) (2.8.2)\n",
      "Requirement already satisfied: six>=1.5 in c:\\users\\aland\\anaconda3\\lib\\site-packages (from python-dateutil>=2.8.1->pandas) (1.16.0)\n"
     ]
    }
   ],
   "source": [
    "!pip install pymysql\n",
    "!pip install ipython-sql\n",
    "!pip3 install mysqlclient\n",
    "!pip3 install mysql-connector-python\n",
    "!pip install pandas\n",
    "\n"
   ]
  },
  {
   "cell_type": "code",
   "execution_count": null,
   "id": "4067860d-48d0-488d-a120-c507b983c925",
   "metadata": {},
   "outputs": [],
   "source": []
  }
 ],
 "metadata": {
  "kernelspec": {
   "display_name": "Python 3 (ipykernel)",
   "language": "python",
   "name": "python3"
  },
  "language_info": {
   "codemirror_mode": {
    "name": "ipython",
    "version": 3
   },
   "file_extension": ".py",
   "mimetype": "text/x-python",
   "name": "python",
   "nbconvert_exporter": "python",
   "pygments_lexer": "ipython3",
   "version": "3.10.9"
  }
 },
 "nbformat": 4,
 "nbformat_minor": 5
}
